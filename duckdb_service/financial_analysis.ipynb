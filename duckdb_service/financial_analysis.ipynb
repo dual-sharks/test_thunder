{
 "cells": [
  {
   "cell_type": "markdown",
   "id": "457591dc",
   "metadata": {},
   "source": [
    "# Financial Data Analysis with AI\n",
    "\n",
    "This notebook demonstrates how to analyze financial transaction data using DuckDB and AI. The data is stored in a CSV file within the data folder and we'll explore various analytical insights."
   ]
  },
  {
   "cell_type": "markdown",
   "id": "781717b1",
   "metadata": {},
   "source": [
    "## Import Required Libraries\n",
    "\n",
    "Import pandas, numpy, and other necessary libraries for data analysis."
   ]
  },
  {
   "cell_type": "code",
   "execution_count": null,
   "id": "4d156222",
   "metadata": {},
   "outputs": [],
   "source": [
    "import pandas as pd\n",
    "import numpy as np\n",
    "import duckdb\n",
    "import os\n",
    "from pathlib import Path\n",
    "import matplotlib.pyplot as plt\n",
    "import seaborn as sns\n",
    "import warnings\n",
    "warnings.filterwarnings('ignore')\n",
    "\n",
    "print(\"Libraries imported successfully!\")"
   ]
  },
  {
   "cell_type": "markdown",
   "id": "1e384361",
   "metadata": {},
   "source": [
    "## Set Up Data Directory Path\n",
    "\n",
    "Define the path to the data folder and verify it exists."
   ]
  },
  {
   "cell_type": "code",
   "execution_count": null,
   "id": "09f3dcc4",
   "metadata": {},
   "outputs": [],
   "source": [
    "# Define data directory path\n",
    "data_dir = Path(\"/app/data\")  # Docker container path\n",
    "csv_file = data_dir / \"sample_data.csv\"\n",
    "\n",
    "# For local development, you might use:\n",
    "# data_dir = Path(\"../data\")\n",
    "# csv_file = data_dir / \"sample_data.csv\"\n",
    "\n",
    "print(f\"Data directory: {data_dir}\")\n",
    "print(f\"CSV file path: {csv_file}\")\n",
    "print(f\"Data directory exists: {data_dir.exists()}\")\n",
    "print(f\"CSV file exists: {csv_file.exists()}\")"
   ]
  },
  {
   "cell_type": "markdown",
   "id": "0cc4c473",
   "metadata": {},
   "source": [
    "## Load CSV Data from Data Folder\n",
    "\n",
    "Use pandas to read the sample_data.csv file from the data directory."
   ]
  },
  {
   "cell_type": "code",
   "execution_count": null,
   "id": "82b07f22",
   "metadata": {},
   "outputs": [],
   "source": [
    "# Load the CSV data\n",
    "try:\n",
    "    df = pd.read_csv(csv_file)\n",
    "    print(f\"Successfully loaded {len(df)} transactions from {csv_file}\")\n",
    "    print(f\"Data shape: {df.shape}\")\n",
    "except FileNotFoundError:\n",
    "    print(f\"Error: File not found at {csv_file}\")\n",
    "    # Fallback for local development\n",
    "    try:\n",
    "        df = pd.read_csv(\"../data/sample_data.csv\")\n",
    "        print(\"Loaded data using fallback path\")\n",
    "    except:\n",
    "        print(\"Could not load data from any path\")\n",
    "        df = None"
   ]
  },
  {
   "cell_type": "markdown",
   "id": "3a036baa",
   "metadata": {},
   "source": [
    "## Display Data Information\n",
    "\n",
    "Show the first few rows, data types, and basic information about the dataset."
   ]
  },
  {
   "cell_type": "code",
   "execution_count": null,
   "id": "53522a2c",
   "metadata": {},
   "outputs": [],
   "source": [
    "if df is not None:\n",
    "    print(\"=== FIRST 5 ROWS ===\")\n",
    "    display(df.head())\n",
    "    \n",
    "    print(\"\\n=== DATA TYPES ===\")\n",
    "    display(df.dtypes)\n",
    "    \n",
    "    print(\"\\n=== DATASET INFO ===\")\n",
    "    print(f\"Shape: {df.shape}\")\n",
    "    print(f\"Columns: {list(df.columns)}\")\n",
    "    print(f\"Memory usage: {df.memory_usage(deep=True).sum() / 1024:.2f} KB\")\n",
    "    \n",
    "    print(\"\\n=== MISSING VALUES ===\")\n",
    "    display(df.isnull().sum())"
   ]
  },
  {
   "cell_type": "markdown",
   "id": "39f5b3a5",
   "metadata": {},
   "source": [
    "## Basic Data Exploration\n",
    "\n",
    "Perform initial exploration including summary statistics and data shape analysis."
   ]
  },
  {
   "cell_type": "code",
   "execution_count": null,
   "id": "aee5af14",
   "metadata": {},
   "outputs": [],
   "source": [
    "if df is not None:\n",
    "    # Convert date column to datetime\n",
    "    df['date'] = pd.to_datetime(df['date'])\n",
    "    \n",
    "    print(\"=== SUMMARY STATISTICS ===\")\n",
    "    display(df.describe())\n",
    "    \n",
    "    print(\"\\n=== TRANSACTION CATEGORIES ===\")\n",
    "    category_counts = df['category'].value_counts()\n",
    "    display(category_counts)\n",
    "    \n",
    "    print(\"\\n=== ACCOUNT TYPES ===\")\n",
    "    account_counts = df['account_type'].value_counts()\n",
    "    display(account_counts)\n",
    "    \n",
    "    print(\"\\n=== FINANCIAL SUMMARY ===\")\n",
    "    total_income = df[df['amount'] > 0]['amount'].sum()\n",
    "    total_expenses = df[df['amount'] < 0]['amount'].sum()\n",
    "    net_amount = df['amount'].sum()\n",
    "    \n",
    "    print(f\"Total Income: ${total_income:,.2f}\")\n",
    "    print(f\"Total Expenses: ${abs(total_expenses):,.2f}\")\n",
    "    print(f\"Net Amount: ${net_amount:,.2f}\")\n",
    "    print(f\"Date Range: {df['date'].min()} to {df['date'].max()}\")"
   ]
  },
  {
   "cell_type": "code",
   "execution_count": null,
   "id": "266a3cad",
   "metadata": {},
   "outputs": [],
   "source": []
  },
  {
   "cell_type": "markdown",
   "id": "e3f7b6c0",
   "metadata": {},
   "source": [
    "## Monitor AI Model Download Progress\n",
    "\n",
    "Check the status of the Llama 3.1 model download and test AI functionality once ready."
   ]
  },
  {
   "cell_type": "code",
   "execution_count": null,
   "id": "a90b24f2",
   "metadata": {},
   "outputs": [],
   "source": [
    "import requests\n",
    "import subprocess\n",
    "import time\n",
    "import json\n",
    "\n",
    "# Check if Ollama model is ready\n",
    "def check_ollama_status():\n",
    "    try:\n",
    "        # Try to list models\n",
    "        result = subprocess.run(['docker', 'exec', 'ollama', 'ollama', 'list'], \n",
    "                              capture_output=True, text=True)\n",
    "        \n",
    "        if result.returncode == 0:\n",
    "            lines = result.stdout.strip().split('\\n')\n",
    "            if len(lines) > 1:  # Header + at least one model\n",
    "                print(\"✅ Ollama models available:\")\n",
    "                print(result.stdout)\n",
    "                return True\n",
    "            else:\n",
    "                print(\"⏳ No models available yet - still downloading...\")\n",
    "                return False\n",
    "        else:\n",
    "            print(f\"❌ Error checking models: {result.stderr}\")\n",
    "            return False\n",
    "    except Exception as e:\n",
    "        print(f\"❌ Error: {e}\")\n",
    "        return False\n",
    "\n",
    "# Test AI functionality\n",
    "def test_ai_query():\n",
    "    try:\n",
    "        response = requests.post('http://localhost:5000/ask', \n",
    "                               json={'question': 'What is the total spending amount?'})\n",
    "        if response.status_code == 200:\n",
    "            result = response.json()\n",
    "            print(\"✅ AI Query successful!\")\n",
    "            print(f\"Question: What is the total spending amount?\")\n",
    "            print(f\"SQL: {result.get('sql', 'N/A')}\")\n",
    "            print(f\"Answer: {result.get('answer', 'N/A')}\")\n",
    "            return True\n",
    "        else:\n",
    "            print(f\"❌ AI Query failed: {response.status_code}\")\n",
    "            print(response.text)\n",
    "            return False\n",
    "    except Exception as e:\n",
    "        print(f\"❌ Error testing AI: {e}\")\n",
    "        return False\n",
    "\n",
    "# Monitor download progress\n",
    "def monitor_download():\n",
    "    print(\"🔍 Checking Ollama model status...\")\n",
    "    \n",
    "    if check_ollama_status():\n",
    "        print(\"\\n🚀 Testing AI functionality...\")\n",
    "        test_ai_query()\n",
    "    else:\n",
    "        print(\"\\n📊 To check download progress, run in terminal:\")\n",
    "        print(\"docker logs ollama --tail 10\")\n",
    "        \n",
    "        print(\"\\n⏰ Download should complete in ~25 seconds at current speed\")\n",
    "        print(\"You can re-run this cell to check again!\")\n",
    "\n",
    "# Run the monitoring\n",
    "monitor_download()"
   ]
  },
  {
   "cell_type": "code",
   "execution_count": null,
   "id": "fe7ffeda",
   "metadata": {},
   "outputs": [
    {
     "ename": "",
     "evalue": "",
     "output_type": "error",
     "traceback": [
      "\u001b[1;31mRunning cells with 'Python 3.13.2' requires the ipykernel package.\n",
      "\u001b[1;31m<a href='command:jupyter.createPythonEnvAndSelectController'>Create a Python Environment</a> with the required packages.\n",
      "\u001b[1;31mOr install 'ipykernel' using the command: 'c:/Users/lzhou/AppData/Local/Programs/Python/Python313/python.exe -m pip install ipykernel -U --user --force-reinstall'"
     ]
    }
   ],
   "source": []
  }
 ],
 "metadata": {
  "kernelspec": {
   "display_name": "Python 3",
   "language": "python",
   "name": "python3"
  },
  "language_info": {
   "name": "python",
   "version": "3.13.2"
  }
 },
 "nbformat": 4,
 "nbformat_minor": 5
}
